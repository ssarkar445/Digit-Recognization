{
 "cells": [
  {
   "cell_type": "code",
   "execution_count": 1,
   "metadata": {},
   "outputs": [],
   "source": [
    "import sys\n",
    "import os\n",
    "import warnings\n",
    "warnings.filterwarnings('ignore')\n",
    "import pandas as pd\n",
    "import numpy as np\n",
    "import seaborn as sns\n",
    "import matplotlib.pyplot as plt\n",
    "%matplotlib inline"
   ]
  },
  {
   "cell_type": "code",
   "execution_count": 2,
   "metadata": {},
   "outputs": [],
   "source": [
    "train = pd.read_csv('train.csv')\n",
    "test = pd.read_csv('test.csv')"
   ]
  },
  {
   "cell_type": "code",
   "execution_count": 3,
   "metadata": {},
   "outputs": [
    {
     "data": {
      "text/html": [
       "<div>\n",
       "<style scoped>\n",
       "    .dataframe tbody tr th:only-of-type {\n",
       "        vertical-align: middle;\n",
       "    }\n",
       "\n",
       "    .dataframe tbody tr th {\n",
       "        vertical-align: top;\n",
       "    }\n",
       "\n",
       "    .dataframe thead th {\n",
       "        text-align: right;\n",
       "    }\n",
       "</style>\n",
       "<table border=\"1\" class=\"dataframe\">\n",
       "  <thead>\n",
       "    <tr style=\"text-align: right;\">\n",
       "      <th></th>\n",
       "      <th>label</th>\n",
       "      <th>pixel0</th>\n",
       "      <th>pixel1</th>\n",
       "      <th>pixel2</th>\n",
       "      <th>pixel3</th>\n",
       "      <th>pixel4</th>\n",
       "      <th>pixel5</th>\n",
       "      <th>pixel6</th>\n",
       "      <th>pixel7</th>\n",
       "      <th>pixel8</th>\n",
       "      <th>...</th>\n",
       "      <th>pixel774</th>\n",
       "      <th>pixel775</th>\n",
       "      <th>pixel776</th>\n",
       "      <th>pixel777</th>\n",
       "      <th>pixel778</th>\n",
       "      <th>pixel779</th>\n",
       "      <th>pixel780</th>\n",
       "      <th>pixel781</th>\n",
       "      <th>pixel782</th>\n",
       "      <th>pixel783</th>\n",
       "    </tr>\n",
       "  </thead>\n",
       "  <tbody>\n",
       "    <tr>\n",
       "      <th>0</th>\n",
       "      <td>1</td>\n",
       "      <td>0</td>\n",
       "      <td>0</td>\n",
       "      <td>0</td>\n",
       "      <td>0</td>\n",
       "      <td>0</td>\n",
       "      <td>0</td>\n",
       "      <td>0</td>\n",
       "      <td>0</td>\n",
       "      <td>0</td>\n",
       "      <td>...</td>\n",
       "      <td>0</td>\n",
       "      <td>0</td>\n",
       "      <td>0</td>\n",
       "      <td>0</td>\n",
       "      <td>0</td>\n",
       "      <td>0</td>\n",
       "      <td>0</td>\n",
       "      <td>0</td>\n",
       "      <td>0</td>\n",
       "      <td>0</td>\n",
       "    </tr>\n",
       "    <tr>\n",
       "      <th>1</th>\n",
       "      <td>0</td>\n",
       "      <td>0</td>\n",
       "      <td>0</td>\n",
       "      <td>0</td>\n",
       "      <td>0</td>\n",
       "      <td>0</td>\n",
       "      <td>0</td>\n",
       "      <td>0</td>\n",
       "      <td>0</td>\n",
       "      <td>0</td>\n",
       "      <td>...</td>\n",
       "      <td>0</td>\n",
       "      <td>0</td>\n",
       "      <td>0</td>\n",
       "      <td>0</td>\n",
       "      <td>0</td>\n",
       "      <td>0</td>\n",
       "      <td>0</td>\n",
       "      <td>0</td>\n",
       "      <td>0</td>\n",
       "      <td>0</td>\n",
       "    </tr>\n",
       "    <tr>\n",
       "      <th>2</th>\n",
       "      <td>1</td>\n",
       "      <td>0</td>\n",
       "      <td>0</td>\n",
       "      <td>0</td>\n",
       "      <td>0</td>\n",
       "      <td>0</td>\n",
       "      <td>0</td>\n",
       "      <td>0</td>\n",
       "      <td>0</td>\n",
       "      <td>0</td>\n",
       "      <td>...</td>\n",
       "      <td>0</td>\n",
       "      <td>0</td>\n",
       "      <td>0</td>\n",
       "      <td>0</td>\n",
       "      <td>0</td>\n",
       "      <td>0</td>\n",
       "      <td>0</td>\n",
       "      <td>0</td>\n",
       "      <td>0</td>\n",
       "      <td>0</td>\n",
       "    </tr>\n",
       "    <tr>\n",
       "      <th>3</th>\n",
       "      <td>4</td>\n",
       "      <td>0</td>\n",
       "      <td>0</td>\n",
       "      <td>0</td>\n",
       "      <td>0</td>\n",
       "      <td>0</td>\n",
       "      <td>0</td>\n",
       "      <td>0</td>\n",
       "      <td>0</td>\n",
       "      <td>0</td>\n",
       "      <td>...</td>\n",
       "      <td>0</td>\n",
       "      <td>0</td>\n",
       "      <td>0</td>\n",
       "      <td>0</td>\n",
       "      <td>0</td>\n",
       "      <td>0</td>\n",
       "      <td>0</td>\n",
       "      <td>0</td>\n",
       "      <td>0</td>\n",
       "      <td>0</td>\n",
       "    </tr>\n",
       "    <tr>\n",
       "      <th>4</th>\n",
       "      <td>0</td>\n",
       "      <td>0</td>\n",
       "      <td>0</td>\n",
       "      <td>0</td>\n",
       "      <td>0</td>\n",
       "      <td>0</td>\n",
       "      <td>0</td>\n",
       "      <td>0</td>\n",
       "      <td>0</td>\n",
       "      <td>0</td>\n",
       "      <td>...</td>\n",
       "      <td>0</td>\n",
       "      <td>0</td>\n",
       "      <td>0</td>\n",
       "      <td>0</td>\n",
       "      <td>0</td>\n",
       "      <td>0</td>\n",
       "      <td>0</td>\n",
       "      <td>0</td>\n",
       "      <td>0</td>\n",
       "      <td>0</td>\n",
       "    </tr>\n",
       "  </tbody>\n",
       "</table>\n",
       "<p>5 rows × 785 columns</p>\n",
       "</div>"
      ],
      "text/plain": [
       "   label  pixel0  pixel1  pixel2  pixel3  pixel4  pixel5  pixel6  pixel7  \\\n",
       "0      1       0       0       0       0       0       0       0       0   \n",
       "1      0       0       0       0       0       0       0       0       0   \n",
       "2      1       0       0       0       0       0       0       0       0   \n",
       "3      4       0       0       0       0       0       0       0       0   \n",
       "4      0       0       0       0       0       0       0       0       0   \n",
       "\n",
       "   pixel8    ...     pixel774  pixel775  pixel776  pixel777  pixel778  \\\n",
       "0       0    ...            0         0         0         0         0   \n",
       "1       0    ...            0         0         0         0         0   \n",
       "2       0    ...            0         0         0         0         0   \n",
       "3       0    ...            0         0         0         0         0   \n",
       "4       0    ...            0         0         0         0         0   \n",
       "\n",
       "   pixel779  pixel780  pixel781  pixel782  pixel783  \n",
       "0         0         0         0         0         0  \n",
       "1         0         0         0         0         0  \n",
       "2         0         0         0         0         0  \n",
       "3         0         0         0         0         0  \n",
       "4         0         0         0         0         0  \n",
       "\n",
       "[5 rows x 785 columns]"
      ]
     },
     "execution_count": 3,
     "metadata": {},
     "output_type": "execute_result"
    }
   ],
   "source": [
    "train.head(5)"
   ]
  },
  {
   "cell_type": "code",
   "execution_count": 4,
   "metadata": {},
   "outputs": [],
   "source": [
    "train_y  = train.pop('label')\n",
    "train_X = train\n",
    "test_X = test"
   ]
  },
  {
   "cell_type": "code",
   "execution_count": 5,
   "metadata": {},
   "outputs": [],
   "source": [
    "MNIST_train = train_X.values.reshape(-1,28,28)\n",
    "MNIST_test = test_X.values.reshape(-1,28,28)"
   ]
  },
  {
   "cell_type": "code",
   "execution_count": 6,
   "metadata": {},
   "outputs": [
    {
     "data": {
      "image/png": "[encoded data removed]",
      "text/plain": [
       "<Figure size 432x288 with 5 Axes>"
      ]
     },
     "metadata": {},
     "output_type": "display_data"
    }
   ],
   "source": [
    "for i in range(1,6):\n",
    "    plt.subplot(1,5,i)\n",
    "    plt.imshow(MNIST_train[i],cmap=plt.cm.binary)"
   ]
  },
  {
   "cell_type": "code",
   "execution_count": 7,
   "metadata": {},
   "outputs": [
    {
     "data": {
      "image/png": "[encoded data removed]",
      "text/plain": [
       "<Figure size 432x288 with 5 Axes>"
      ]
     },
     "metadata": {},
     "output_type": "display_data"
    }
   ],
   "source": [
    "for i in range(1,6):\n",
    "    plt.subplot(1,5,i)\n",
    "    plt.imshow(MNIST_test[i],cmap=plt.cm.binary)"
   ]
  },
  {
   "cell_type": "code",
   "execution_count": 8,
   "metadata": {},
   "outputs": [],
   "source": [
    "from sklearn.decomposition import PCA"
   ]
  },
  {
   "cell_type": "code",
   "execution_count": 55,
   "metadata": {},
   "outputs": [
    {
     "data": {
      "text/plain": [
       "(42000, 87)"
      ]
     },
     "execution_count": 55,
     "metadata": {},
     "output_type": "execute_result"
    }
   ],
   "source": [
    "#pca = PCA(n_components=100,svd_solver='randomized',random_state=42)\n",
    "pca = PCA(0.90)\n",
    "pc = pca.fit_transform(train_X)\n",
    "pc.shape"
   ]
  },
  {
   "cell_type": "code",
   "execution_count": 56,
   "metadata": {},
   "outputs": [
    {
     "data": {
      "image/png": "[encoded data removed]",
      "text/plain": [
       "<Figure size 720x360 with 1 Axes>"
      ]
     },
     "metadata": {},
     "output_type": "display_data"
    }
   ],
   "source": [
    "plt.figure(figsize=(10,5))\n",
    "plt.plot(np.cumsum(pca.explained_variance_ratio_),c='red')\n",
    "plt.xlabel('Principal Components')\n",
    "plt.ylabel('Variance Explained by PC')\n",
    "plt.title('Scree Plot')\n",
    "plt.show()"
   ]
  },
  {
   "cell_type": "code",
   "execution_count": 57,
   "metadata": {},
   "outputs": [
    {
     "data": {
      "text/html": [
       "<div>\n",
       "<style scoped>\n",
       "    .dataframe tbody tr th:only-of-type {\n",
       "        vertical-align: middle;\n",
       "    }\n",
       "\n",
       "    .dataframe tbody tr th {\n",
       "        vertical-align: top;\n",
       "    }\n",
       "\n",
       "    .dataframe thead th {\n",
       "        text-align: right;\n",
       "    }\n",
       "</style>\n",
       "<table border=\"1\" class=\"dataframe\">\n",
       "  <thead>\n",
       "    <tr style=\"text-align: right;\">\n",
       "      <th></th>\n",
       "      <th>0</th>\n",
       "      <th>1</th>\n",
       "      <th>2</th>\n",
       "      <th>3</th>\n",
       "      <th>4</th>\n",
       "      <th>5</th>\n",
       "      <th>6</th>\n",
       "      <th>7</th>\n",
       "      <th>8</th>\n",
       "      <th>9</th>\n",
       "      <th>...</th>\n",
       "      <th>41990</th>\n",
       "      <th>41991</th>\n",
       "      <th>41992</th>\n",
       "      <th>41993</th>\n",
       "      <th>41994</th>\n",
       "      <th>41995</th>\n",
       "      <th>41996</th>\n",
       "      <th>41997</th>\n",
       "      <th>41998</th>\n",
       "      <th>41999</th>\n",
       "    </tr>\n",
       "  </thead>\n",
       "  <tbody>\n",
       "    <tr>\n",
       "      <th>0</th>\n",
       "      <td>-661.595780</td>\n",
       "      <td>1701.451685</td>\n",
       "      <td>-886.894434</td>\n",
       "      <td>-165.755602</td>\n",
       "      <td>1923.709716</td>\n",
       "      <td>487.751911</td>\n",
       "      <td>-672.323164</td>\n",
       "      <td>-114.381815</td>\n",
       "      <td>350.229366</td>\n",
       "      <td>297.392088</td>\n",
       "      <td>...</td>\n",
       "      <td>-339.624272</td>\n",
       "      <td>-893.087401</td>\n",
       "      <td>359.053713</td>\n",
       "      <td>479.839948</td>\n",
       "      <td>453.992780</td>\n",
       "      <td>760.355279</td>\n",
       "      <td>-1059.873183</td>\n",
       "      <td>336.269982</td>\n",
       "      <td>327.399392</td>\n",
       "      <td>-364.249200</td>\n",
       "    </tr>\n",
       "    <tr>\n",
       "      <th>1</th>\n",
       "      <td>-699.311328</td>\n",
       "      <td>-360.551556</td>\n",
       "      <td>-293.765782</td>\n",
       "      <td>300.182761</td>\n",
       "      <td>-449.153069</td>\n",
       "      <td>192.752402</td>\n",
       "      <td>464.803974</td>\n",
       "      <td>-20.727143</td>\n",
       "      <td>141.012974</td>\n",
       "      <td>-807.412236</td>\n",
       "      <td>...</td>\n",
       "      <td>-480.695415</td>\n",
       "      <td>-640.651256</td>\n",
       "      <td>415.966625</td>\n",
       "      <td>28.724850</td>\n",
       "      <td>666.820872</td>\n",
       "      <td>-249.854220</td>\n",
       "      <td>-302.292351</td>\n",
       "      <td>950.015280</td>\n",
       "      <td>62.016089</td>\n",
       "      <td>418.893026</td>\n",
       "    </tr>\n",
       "    <tr>\n",
       "      <th>2</th>\n",
       "      <td>183.282040</td>\n",
       "      <td>-501.805594</td>\n",
       "      <td>67.155310</td>\n",
       "      <td>-64.145485</td>\n",
       "      <td>-548.613023</td>\n",
       "      <td>-6.435850</td>\n",
       "      <td>-313.660059</td>\n",
       "      <td>-504.583556</td>\n",
       "      <td>-389.030657</td>\n",
       "      <td>-39.372849</td>\n",
       "      <td>...</td>\n",
       "      <td>-1009.672501</td>\n",
       "      <td>237.835687</td>\n",
       "      <td>-403.353452</td>\n",
       "      <td>3.610436</td>\n",
       "      <td>-353.198728</td>\n",
       "      <td>-406.991832</td>\n",
       "      <td>2.941098</td>\n",
       "      <td>-168.605414</td>\n",
       "      <td>697.536401</td>\n",
       "      <td>62.899823</td>\n",
       "    </tr>\n",
       "    <tr>\n",
       "      <th>3</th>\n",
       "      <td>120.611394</td>\n",
       "      <td>335.423656</td>\n",
       "      <td>78.263763</td>\n",
       "      <td>759.706261</td>\n",
       "      <td>188.555147</td>\n",
       "      <td>-40.856597</td>\n",
       "      <td>-136.130730</td>\n",
       "      <td>-89.649334</td>\n",
       "      <td>-619.261384</td>\n",
       "      <td>-51.966151</td>\n",
       "      <td>...</td>\n",
       "      <td>69.020073</td>\n",
       "      <td>-152.686692</td>\n",
       "      <td>857.141165</td>\n",
       "      <td>699.631785</td>\n",
       "      <td>317.271583</td>\n",
       "      <td>-322.864160</td>\n",
       "      <td>38.667116</td>\n",
       "      <td>-692.680963</td>\n",
       "      <td>482.810439</td>\n",
       "      <td>77.580323</td>\n",
       "    </tr>\n",
       "    <tr>\n",
       "      <th>4</th>\n",
       "      <td>-81.081811</td>\n",
       "      <td>-442.378933</td>\n",
       "      <td>-473.715921</td>\n",
       "      <td>-425.844379</td>\n",
       "      <td>-651.736273</td>\n",
       "      <td>-47.260658</td>\n",
       "      <td>-325.544409</td>\n",
       "      <td>-253.972945</td>\n",
       "      <td>288.790581</td>\n",
       "      <td>-43.390507</td>\n",
       "      <td>...</td>\n",
       "      <td>58.333569</td>\n",
       "      <td>17.400693</td>\n",
       "      <td>-44.202546</td>\n",
       "      <td>541.010202</td>\n",
       "      <td>-161.934957</td>\n",
       "      <td>-1005.138838</td>\n",
       "      <td>-360.053230</td>\n",
       "      <td>-539.363843</td>\n",
       "      <td>-154.813778</td>\n",
       "      <td>54.866087</td>\n",
       "    </tr>\n",
       "  </tbody>\n",
       "</table>\n",
       "<p>5 rows × 42000 columns</p>\n",
       "</div>"
      ],
      "text/plain": [
       "        0            1           2           3            4           5      \\\n",
       "0 -661.595780  1701.451685 -886.894434 -165.755602  1923.709716  487.751911   \n",
       "1 -699.311328  -360.551556 -293.765782  300.182761  -449.153069  192.752402   \n",
       "2  183.282040  -501.805594   67.155310  -64.145485  -548.613023   -6.435850   \n",
       "3  120.611394   335.423656   78.263763  759.706261   188.555147  -40.856597   \n",
       "4  -81.081811  -442.378933 -473.715921 -425.844379  -651.736273  -47.260658   \n",
       "\n",
       "        6           7           8           9         ...            41990  \\\n",
       "0 -672.323164 -114.381815  350.229366  297.392088     ...      -339.624272   \n",
       "1  464.803974  -20.727143  141.012974 -807.412236     ...      -480.695415   \n",
       "2 -313.660059 -504.583556 -389.030657  -39.372849     ...     -1009.672501   \n",
       "3 -136.130730  -89.649334 -619.261384  -51.966151     ...        69.020073   \n",
       "4 -325.544409 -253.972945  288.790581  -43.390507     ...        58.333569   \n",
       "\n",
       "        41991       41992       41993       41994        41995        41996  \\\n",
       "0 -893.087401  359.053713  479.839948  453.992780   760.355279 -1059.873183   \n",
       "1 -640.651256  415.966625   28.724850  666.820872  -249.854220  -302.292351   \n",
       "2  237.835687 -403.353452    3.610436 -353.198728  -406.991832     2.941098   \n",
       "3 -152.686692  857.141165  699.631785  317.271583  -322.864160    38.667116   \n",
       "4   17.400693  -44.202546  541.010202 -161.934957 -1005.138838  -360.053230   \n",
       "\n",
       "        41997       41998       41999  \n",
       "0  336.269982  327.399392 -364.249200  \n",
       "1  950.015280   62.016089  418.893026  \n",
       "2 -168.605414  697.536401   62.899823  \n",
       "3 -692.680963  482.810439   77.580323  \n",
       "4 -539.363843 -154.813778   54.866087  \n",
       "\n",
       "[5 rows x 42000 columns]"
      ]
     },
     "execution_count": 57,
     "metadata": {},
     "output_type": "execute_result"
    }
   ],
   "source": [
    "pd.DataFrame(pc.transpose()).head()"
   ]
  },
  {
   "cell_type": "code",
   "execution_count": 58,
   "metadata": {},
   "outputs": [],
   "source": [
    "corr_matrix = np.corrcoef(pc.transpose())"
   ]
  },
  {
   "cell_type": "code",
   "execution_count": 59,
   "metadata": {},
   "outputs": [
    {
     "data": {
      "image/png": "[encoded data removed]",
      "text/plain": [
       "<Figure size 720x360 with 2 Axes>"
      ]
     },
     "metadata": {},
     "output_type": "display_data"
    }
   ],
   "source": [
    "plt.figure(figsize=(10,5))\n",
    "sns.heatmap(corr_matrix,cmap='summer')\n",
    "plt.title('Corr Matrix')\n",
    "plt.show()"
   ]
  },
  {
   "cell_type": "code",
   "execution_count": 60,
   "metadata": {},
   "outputs": [
    {
     "name": "stdout",
     "output_type": "stream",
     "text": [
      "max corr: 1.668833121032915e-15 , min corr:  -1.4898716948556503e-15\n"
     ]
    }
   ],
   "source": [
    "corr_min_max = corr_matrix - np.diagflat(corr_matrix.diagonal())\n",
    "print(\"max corr:\",corr_min_max.max(), \", min corr: \", corr_min_max.min(),)"
   ]
  },
  {
   "cell_type": "code",
   "execution_count": 61,
   "metadata": {},
   "outputs": [],
   "source": [
    "df_test_pca = pca.transform(test_X)"
   ]
  },
  {
   "cell_type": "code",
   "execution_count": 62,
   "metadata": {},
   "outputs": [
    {
     "data": {
      "text/plain": [
       "(28000, 87)"
      ]
     },
     "execution_count": 62,
     "metadata": {},
     "output_type": "execute_result"
    }
   ],
   "source": [
    "df_test_pca.shape"
   ]
  },
  {
   "cell_type": "code",
   "execution_count": 63,
   "metadata": {},
   "outputs": [],
   "source": [
    "from sklearn.linear_model import LogisticRegression\n",
    "from sklearn import metrics\n",
    "\n",
    "logistic_pca = LogisticRegression()\n",
    "model_pca = logistic_pca.fit(pc,train_y)"
   ]
  },
  {
   "cell_type": "code",
   "execution_count": 64,
   "metadata": {},
   "outputs": [],
   "source": [
    "#Making prediction on the test data\n",
    "prediction = model_pca.predict(df_test_pca)"
   ]
  },
  {
   "cell_type": "code",
   "execution_count": 65,
   "metadata": {},
   "outputs": [],
   "source": [
    "pd.DataFrame({'ImageId':[x+1 for x in range(0,len(test_X))],\n",
    "              'Label':prediction}).to_csv('submission.csv',index=False)"
   ]
  },
  {
   "cell_type": "code",
   "execution_count": null,
   "metadata": {},
   "outputs": [],
   "source": []
  },
  {
   "cell_type": "code",
   "execution_count": null,
   "metadata": {},
   "outputs": [],
   "source": []
  }
 ],
 "metadata": {
  "kernelspec": {
   "display_name": "Python 3",
   "language": "python",
   "name": "python3"
  },
  "language_info": {
   "codemirror_mode": {
    "name": "ipython",
    "version": 3
   },
   "file_extension": ".py",
   "mimetype": "text/x-python",
   "name": "python",
   "nbconvert_exporter": "python",
   "pygments_lexer": "ipython3",
   "version": "3.6.5"
  }
 },
 "nbformat": 4,
 "nbformat_minor": 2
}
